{
  "nbformat": 4,
  "nbformat_minor": 0,
  "metadata": {
    "colab": {
      "provenance": []
    },
    "kernelspec": {
      "name": "python3",
      "display_name": "Python 3"
    },
    "language_info": {
      "name": "python"
    }
  },
  "cells": [
    {
      "cell_type": "markdown",
      "source": [
        "MOUNTING DRIVE"
      ],
      "metadata": {
        "id": "flGFAaALeYeh"
      }
    },
    {
      "cell_type": "code",
      "execution_count": null,
      "metadata": {
        "colab": {
          "base_uri": "https://localhost:8080/"
        },
        "id": "4jzByxoheI3h",
        "outputId": "1daf179f-47b9-4ec8-8f6e-b7539da91e75"
      },
      "outputs": [
        {
          "output_type": "stream",
          "name": "stdout",
          "text": [
            "Mounted at /content/drive\n"
          ]
        }
      ],
      "source": [
        "from google.colab import drive\n",
        "drive.mount('/content/drive')"
      ]
    },
    {
      "cell_type": "markdown",
      "source": [
        "\n",
        "OpenCV INSTALLATION:"
      ],
      "metadata": {
        "id": "D6dA9XNfeiv3"
      }
    },
    {
      "cell_type": "code",
      "source": [
        "!pip install opencv-python"
      ],
      "metadata": {
        "colab": {
          "base_uri": "https://localhost:8080/"
        },
        "id": "DkuvgKqeepHe",
        "outputId": "c8184d94-46c8-4c51-8608-4743e6a4f915"
      },
      "execution_count": null,
      "outputs": [
        {
          "output_type": "stream",
          "name": "stdout",
          "text": [
            "Requirement already satisfied: opencv-python in /usr/local/lib/python3.10/dist-packages (4.8.0.76)\n",
            "Requirement already satisfied: numpy>=1.21.2 in /usr/local/lib/python3.10/dist-packages (from opencv-python) (1.25.2)\n"
          ]
        }
      ]
    },
    {
      "cell_type": "markdown",
      "source": [
        "FRAME EXTRACTION:"
      ],
      "metadata": {
        "id": "AgC5_nRte8YN"
      }
    },
    {
      "cell_type": "code",
      "source": [
        "import cv2\n",
        "import os\n",
        "\n",
        "# Loading the  video file\n",
        "video_path = '/content/drive/MyDrive/Intern/London Underground Extravaganza All 11 Lines! 29 November 2016.mp4'\n",
        "cap = cv2.VideoCapture(video_path)\n",
        "\n",
        "# the folder where frames will be stored\n",
        "frames_folder = '/content/drive/MyDrive/Intern/frames'\n",
        "\n",
        "# Frame extraction at one frame per second (FPS)\n",
        "frame_count = 0\n",
        "success = True\n",
        "\n",
        "while success:\n",
        "  success, frame = cap.read()\n",
        "  if not success:\n",
        "    break\n",
        "  # Extracting a frame every 30 frames (1 FPS)\n",
        "  if frame_count % 30 == 0:\n",
        "    frame_path = os.path.join(frames_folder, f\"frame_{frame_count}.jpg\")\n",
        "    cv2.imwrite(frame_path, frame)\n",
        "\n",
        "  frame_count += 1\n",
        "\n",
        "cap.release()\n",
        "\n"
      ],
      "metadata": {
        "id": "rCyN9tMLe80g"
      },
      "execution_count": null,
      "outputs": []
    },
    {
      "cell_type": "code",
      "source": [
        "print(\"Reading frame:\", frame_count)\n",
        "print(\"Saving frame:\", frame_path)"
      ],
      "metadata": {
        "colab": {
          "base_uri": "https://localhost:8080/"
        },
        "id": "qMsvrIhyfhM4",
        "outputId": "87d20913-0db1-43a9-8970-0419fb8e7e4a"
      },
      "execution_count": null,
      "outputs": [
        {
          "output_type": "stream",
          "name": "stdout",
          "text": [
            "Reading frame: 42438\n",
            "Saving frame: /content/drive/MyDrive/Intern/frames/frame_42420.jpg\n"
          ]
        }
      ]
    },
    {
      "cell_type": "markdown",
      "source": [
        "FACE RECOGNITION LIBRARY INSTALLATION:"
      ],
      "metadata": {
        "id": "k40a9uF1fkfH"
      }
    },
    {
      "cell_type": "code",
      "source": [
        "!pip install face_recognition"
      ],
      "metadata": {
        "colab": {
          "base_uri": "https://localhost:8080/"
        },
        "id": "QFyNu7FYfwB1",
        "outputId": "9df9e224-327f-45ce-8def-130da0c4faf8"
      },
      "execution_count": null,
      "outputs": [
        {
          "output_type": "stream",
          "name": "stdout",
          "text": [
            "Collecting face_recognition\n",
            "  Downloading face_recognition-1.3.0-py2.py3-none-any.whl (15 kB)\n",
            "Collecting face-recognition-models>=0.3.0 (from face_recognition)\n",
            "  Downloading face_recognition_models-0.3.0.tar.gz (100.1 MB)\n",
            "\u001b[2K     \u001b[90m━━━━━━━━━━━━━━━━━━━━━━━━━━━━━━━━━━━━━━━━\u001b[0m \u001b[32m100.1/100.1 MB\u001b[0m \u001b[31m7.8 MB/s\u001b[0m eta \u001b[36m0:00:00\u001b[0m\n",
            "\u001b[?25h  Preparing metadata (setup.py) ... \u001b[?25l\u001b[?25hdone\n",
            "Requirement already satisfied: Click>=6.0 in /usr/local/lib/python3.10/dist-packages (from face_recognition) (8.1.7)\n",
            "Requirement already satisfied: dlib>=19.7 in /usr/local/lib/python3.10/dist-packages (from face_recognition) (19.24.2)\n",
            "Requirement already satisfied: numpy in /usr/local/lib/python3.10/dist-packages (from face_recognition) (1.25.2)\n",
            "Requirement already satisfied: Pillow in /usr/local/lib/python3.10/dist-packages (from face_recognition) (9.4.0)\n",
            "Building wheels for collected packages: face-recognition-models\n",
            "  Building wheel for face-recognition-models (setup.py) ... \u001b[?25l\u001b[?25hdone\n",
            "  Created wheel for face-recognition-models: filename=face_recognition_models-0.3.0-py2.py3-none-any.whl size=100566170 sha256=c04aa176a1deae49f910ae4de176d34d12a2c31fcc81a47968e08df9613d1da5\n",
            "  Stored in directory: /root/.cache/pip/wheels/7a/eb/cf/e9eced74122b679557f597bb7c8e4c739cfcac526db1fd523d\n",
            "Successfully built face-recognition-models\n",
            "Installing collected packages: face-recognition-models, face_recognition\n",
            "Successfully installed face-recognition-models-0.3.0 face_recognition-1.3.0\n"
          ]
        }
      ]
    },
    {
      "cell_type": "markdown",
      "source": [
        "FACE RECOGNITON:"
      ],
      "metadata": {
        "id": "G1sCj8qhf_pc"
      }
    },
    {
      "cell_type": "code",
      "source": [
        "import os\n",
        "import cv2\n",
        "import face_recognition\n",
        "from collections import Counter\n",
        "\n",
        "# Path of the folder which containing the  extracted frames\n",
        "frames_folder = \"/content/drive/MyDrive/Intern/frames\"\n",
        "\n",
        "# Load Haar cascade for face detection\n",
        "face_cascade = cv2.CascadeClassifier(cv2.data.haarcascades + 'haarcascade_frontalface_default.xml')\n",
        "\n",
        "# Initializing variables for face recognition\n",
        "known_face_encodings = []\n",
        "known_face_names = []\n",
        "\n",
        "# Process each frame\n",
        "for frame_filename in os.listdir(frames_folder):\n",
        "    frame_path = os.path.join(frames_folder, frame_filename)\n",
        "\n",
        "    # Loading the image\n",
        "    image = cv2.imread(frame_path)\n",
        "    gray_image = cv2.cvtColor(image, cv2.COLOR_BGR2GRAY)\n",
        "\n",
        "    # Detecting faces using Haar cascade\n",
        "    faces_haar = face_cascade.detectMultiScale(gray_image, scaleFactor=1.1, minNeighbors=5, minSize=(30, 30))\n",
        "\n",
        "    # Iterating over each detected face using Haar cascade\n",
        "    for (x, y, w, h) in faces_haar:\n",
        "        # Extracting face ROI\n",
        "        face_roi = gray_image[y:y+h, x:x+w]\n",
        "\n",
        "        # Identifying faces using face_recognition\n",
        "        face_encoding = face_recognition.face_encodings(image, [(y, x+w, y+h, x)])[0]\n",
        "\n",
        "        # Check if the detected face matches with known faces\n",
        "        matches = face_recognition.compare_faces(known_face_encodings, face_encoding)\n",
        "        name = \"Unknown\"\n",
        "\n",
        "        # Check if any known face matches\n",
        "        if any(matches):\n",
        "            name = known_face_names[matches.index(True)]\n",
        "        else:\n",
        "            # If no match found, add the face to known faces\n",
        "            known_face_encodings.append(face_encoding)\n",
        "            known_face_names.append(f\"Person_{len(known_face_names)+1}\")\n",
        "\n",
        "# Counting the occurrences of each unique face\n",
        "face_counter = Counter(known_face_names)\n",
        "\n",
        "# Determine the most occurring face in the complete video\n",
        "most_common_face = face_counter.most_common(1)\n",
        "\n",
        "print(\"\\nMost occurring face in the complete video:\")\n",
        "if most_common_face:\n",
        "    print(f\" {most_common_face[0][0]}, Occurrences: {most_common_face[0][1]}\")\n",
        "else:\n",
        "    print(\"No faces detected in the video.\")\n"
      ],
      "metadata": {
        "id": "yzLIr_83gDu4"
      },
      "execution_count": null,
      "outputs": []
    }
  ]
}