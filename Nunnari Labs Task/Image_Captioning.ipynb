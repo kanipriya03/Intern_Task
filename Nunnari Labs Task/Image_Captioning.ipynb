{
  "nbformat": 4,
  "nbformat_minor": 0,
  "metadata": {
    "colab": {
      "provenance": []
    },
    "kernelspec": {
      "name": "python3",
      "display_name": "Python 3"
    },
    "language_info": {
      "name": "python"
    }
  },
  "cells": [
    {
      "cell_type": "code",
      "execution_count": null,
      "metadata": {
        "colab": {
          "base_uri": "https://localhost:8080/"
        },
        "id": "rHD5sIM8eUyw",
        "outputId": "5654ea59-8768-4110-887f-464c393371e5"
      },
      "outputs": [
        {
          "output_type": "stream",
          "name": "stdout",
          "text": [
            "Mounted at /content/drive\n"
          ]
        }
      ],
      "source": [
        "from google.colab import drive\n",
        "drive.mount('/content/drive')"
      ]
    },
    {
      "cell_type": "code",
      "source": [
        "!pip install huggingface_hub\n",
        "from huggingface_hub import notebook_login\n",
        "notebook_login()"
      ],
      "metadata": {
        "id": "lUcwjO10iYcb"
      },
      "execution_count": null,
      "outputs": []
    },
    {
      "cell_type": "code",
      "source": [
        "from transformers import VisionEncoderDecoderModel, ViTImageProcessor, AutoTokenizer\n",
        "import torch\n",
        "from PIL import Image\n",
        "import os\n",
        "\n",
        "# Load the model and tokenizer\n",
        "model = VisionEncoderDecoderModel.from_pretrained(\"nlpconnect/vit-gpt2-image-captioning\")\n",
        "feature_extractor = ViTImageProcessor.from_pretrained(\"nlpconnect/vit-gpt2-image-captioning\")\n",
        "tokenizer = AutoTokenizer.from_pretrained(\"nlpconnect/vit-gpt2-image-captioning\")\n",
        "\n",
        "# Set up generation parameters\n",
        "max_length = 16\n",
        "num_beams = 4\n",
        "gen_kwargs = {\"max_length\": max_length, \"num_beams\": num_beams}\n",
        "\n",
        "# Define function to predict captions for multiple images\n",
        "def predict_batch(image_paths, feature_extractor, model, tokenizer, device, gen_kwargs, batch_size=8):\n",
        "    captions = []\n",
        "    for i in range(0, len(image_paths), batch_size):\n",
        "        batch_paths = image_paths[i:i + batch_size]\n",
        "        images = []\n",
        "        for image_path in batch_paths:\n",
        "            i_image = Image.open(image_path)\n",
        "            if i_image.mode != \"RGB\":\n",
        "                i_image = i_image.convert(mode=\"RGB\")\n",
        "            images.append(i_image)\n",
        "\n",
        "        # Convert images to pixel values\n",
        "        pixel_values = feature_extractor(images=images, return_tensors=\"pt\").pixel_values\n",
        "\n",
        "        # Generate captions\n",
        "        output_ids = model.generate(pixel_values, **gen_kwargs)\n",
        "\n",
        "        # Decode captions\n",
        "        preds = tokenizer.batch_decode(output_ids, skip_special_tokens=True)\n",
        "\n",
        "        preds = [pred.strip() for pred in preds]\n",
        "        captions.extend(preds)\n",
        "    return captions\n",
        "\n",
        "# Set the directory containing all the images\n",
        "image_dir = '/content/drive/MyDrive/Intern/frames'\n",
        "\n",
        "# Get a list of all image paths in the directory\n",
        "image_paths = [os.path.join(image_dir, filename) for filename in os.listdir(image_dir) if filename.endswith(('.jpg', '.jpeg', '.png'))]\n",
        "# Define the Torch device\n",
        "device = torch.device(\"cpu\")\n",
        "\n",
        "# Predict captions for all images\n",
        "predicted_captions = predict_batch(image_paths, feature_extractor, model, tokenizer, device, gen_kwargs)\n",
        "\n",
        "# Decode the predicted captions using the tokenizer\n",
        "decoded_captions = tokenizer.batch_decode(predicted_captions, skip_special_tokens=True)\n",
        "\n",
        "# Print the predicted captions\n",
        "for image_path, caption in zip(image_paths, decoded_captions):\n",
        "    print(f\"Image: {image_path}, Caption: {caption}\")\n"
      ],
      "metadata": {
        "id": "ruwcj9Bq6Kuo"
      },
      "execution_count": null,
      "outputs": []
    }
  ]
}