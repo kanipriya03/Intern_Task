{
  "nbformat": 4,
  "nbformat_minor": 0,
  "metadata": {
    "colab": {
      "provenance": []
    },
    "kernelspec": {
      "name": "python3",
      "display_name": "Python 3"
    },
    "language_info": {
      "name": "python"
    }
  },
  "cells": [
    {
      "cell_type": "code",
      "execution_count": null,
      "metadata": {
        "id": "y9Jf0b_gz1ab",
        "colab": {
          "base_uri": "https://localhost:8080/"
        },
        "outputId": "1617da8b-d7d3-4021-be03-e71acfd2d9a3"
      },
      "outputs": [
        {
          "output_type": "stream",
          "name": "stdout",
          "text": [
            "Mounted at /content/drive\n"
          ]
        }
      ],
      "source": [
        "from google.colab import drive\n",
        "drive.mount('/content/drive')"
      ]
    },
    {
      "cell_type": "code",
      "source": [
        "!pip install pytesseract\n"
      ],
      "metadata": {
        "colab": {
          "base_uri": "https://localhost:8080/"
        },
        "id": "zNmLrsreTcAu",
        "outputId": "c4d496a4-edb1-475e-ae1b-5963855c27cd"
      },
      "execution_count": null,
      "outputs": [
        {
          "output_type": "stream",
          "name": "stdout",
          "text": [
            "Collecting pytesseract\n",
            "  Downloading pytesseract-0.3.10-py3-none-any.whl (14 kB)\n",
            "Requirement already satisfied: packaging>=21.3 in /usr/local/lib/python3.10/dist-packages (from pytesseract) (24.0)\n",
            "Requirement already satisfied: Pillow>=8.0.0 in /usr/local/lib/python3.10/dist-packages (from pytesseract) (9.4.0)\n",
            "Installing collected packages: pytesseract\n",
            "Successfully installed pytesseract-0.3.10\n"
          ]
        }
      ]
    },
    {
      "cell_type": "code",
      "source": [
        "!pip install huggingface_hub\n",
        "from huggingface_hub import notebook_login\n",
        "notebook_login()"
      ],
      "metadata": {
        "id": "nuryU4HfT5Zb"
      },
      "execution_count": null,
      "outputs": []
    },
    {
      "cell_type": "code",
      "source": [
        "!apt-get install tesseract-ocr\n"
      ],
      "metadata": {
        "id": "IXqY32OlV1Hp"
      },
      "execution_count": null,
      "outputs": []
    },
    {
      "cell_type": "code",
      "source": [
        "!pip install pytesseract\n"
      ],
      "metadata": {
        "colab": {
          "base_uri": "https://localhost:8080/"
        },
        "id": "Orge_PShV5bV",
        "outputId": "954a62ce-4ce6-4615-beb8-2f99a8dad4fd"
      },
      "execution_count": null,
      "outputs": [
        {
          "output_type": "stream",
          "name": "stdout",
          "text": [
            "Requirement already satisfied: pytesseract in /usr/local/lib/python3.10/dist-packages (0.3.10)\n",
            "Requirement already satisfied: packaging>=21.3 in /usr/local/lib/python3.10/dist-packages (from pytesseract) (24.0)\n",
            "Requirement already satisfied: Pillow>=8.0.0 in /usr/local/lib/python3.10/dist-packages (from pytesseract) (9.4.0)\n"
          ]
        }
      ]
    },
    {
      "cell_type": "code",
      "source": [
        "import cv2\n",
        "import pytesseract\n",
        "import re\n",
        "from transformers import pipeline\n",
        "\n",
        "# Initialize the summarization pipeline\n",
        "summarizer = pipeline(\"summarization\", model=\"facebook/bart-large-cnn\")\n",
        "\n",
        "# Path to the video file\n",
        "video_path = \"/content/drive/MyDrive/Intern/London Underground Extravaganza All 11 Lines! 29 November 2016.mp4\"\n",
        "\n",
        "# Open the video file\n",
        "cap = cv2.VideoCapture(video_path)\n",
        "\n",
        "# Check if the video file opened successfully\n",
        "if not cap.isOpened():\n",
        "    print(\"Error: Unable to open video file.\")\n",
        "    exit()\n",
        "\n",
        "# Variable to store the text of the previous frame\n",
        "prev_frame_text = \"\"\n",
        "captions = []  # Store captions for story generation\n",
        "\n",
        "# Loop through each frame in the video\n",
        "while cap.isOpened():\n",
        "    # Read the frame\n",
        "    ret, frame = cap.read()\n",
        "    if not ret:\n",
        "        break\n",
        "\n",
        "    # Convert the frame to grayscale\n",
        "    gray_frame = cv2.cvtColor(frame, cv2.COLOR_BGR2GRAY)\n",
        "\n",
        "    # Perform OCR to extract text from the frame\n",
        "    extracted_text = pytesseract.image_to_string(gray_frame)\n",
        "\n",
        "    # Remove symbols from the extracted text\n",
        "    extracted_text_cleaned = re.sub(r'[^\\w\\s]', '', extracted_text)\n",
        "\n",
        "    # Check if the extracted text is the same as the text from the previous frame\n",
        "    if extracted_text_cleaned == prev_frame_text:\n",
        "        continue  # Skip storing captions for this frame\n",
        "\n",
        "    # Add extracted caption to the list\n",
        "    captions.append(extracted_text_cleaned)\n",
        "\n",
        "    # Update the previous frame text\n",
        "    prev_frame_text = extracted_text_cleaned\n",
        "\n",
        "# Release the video capture object\n",
        "cap.release()\n",
        "\n",
        "# Generate story using captions\n",
        "story_prompt = \" \".join(captions)\n",
        "\n",
        "# Initialize the ChatGPT pipeline\n",
        "chatgpt = pipeline(\"text-generation\", model=\"EleutherAI/gpt-neo-1.3B\")\n",
        "\n",
        "# Generate story using ChatGPT\n",
        "story = chatgpt(story_prompt, max_length=1000, do_sample=False)[0]['generated_text']\n",
        "\n",
        "# Print the generated story\n",
        "print(\"Generated Story:\")\n",
        "print(story)\n"
      ],
      "metadata": {
        "id": "36G04YrIrgRb"
      },
      "execution_count": null,
      "outputs": []
    }
  ]
}