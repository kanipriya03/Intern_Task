{
  "cells": [
    {
      "cell_type": "markdown",
      "metadata": {
        "id": "93PrN6Xa0ppg"
      },
      "source": [
        "MOUNTING DRIVE"
      ]
    },
    {
      "cell_type": "code",
      "execution_count": null,
      "metadata": {
        "colab": {
          "base_uri": "https://localhost:8080/"
        },
        "id": "DcDxExvYJutg",
        "outputId": "a4fb4bc2-14c7-48a2-c97a-fb3051caeac8"
      },
      "outputs": [
        {
          "output_type": "stream",
          "name": "stdout",
          "text": [
            "Mounted at /content/drive\n"
          ]
        }
      ],
      "source": [
        "from google.colab import drive\n",
        "drive.mount('/content/drive')"
      ]
    },
    {
      "cell_type": "markdown",
      "metadata": {
        "id": "urJWro6K1biF"
      },
      "source": [
        "TO INSTALL Tesseract OCR using apt-get"
      ]
    },
    {
      "cell_type": "code",
      "execution_count": null,
      "metadata": {
        "colab": {
          "base_uri": "https://localhost:8080/"
        },
        "id": "PwD7Y1sb1ZLm",
        "outputId": "f98812f8-1534-4de6-c816-67607e6248c5"
      },
      "outputs": [
        {
          "name": "stdout",
          "output_type": "stream",
          "text": [
            "Reading package lists... Done\n",
            "Building dependency tree... Done\n",
            "Reading state information... Done\n",
            "The following additional packages will be installed:\n",
            "  tesseract-ocr-eng tesseract-ocr-osd\n",
            "The following NEW packages will be installed:\n",
            "  tesseract-ocr tesseract-ocr-eng tesseract-ocr-osd\n",
            "0 upgraded, 3 newly installed, 0 to remove and 45 not upgraded.\n",
            "Need to get 4,816 kB of archives.\n",
            "After this operation, 15.6 MB of additional disk space will be used.\n",
            "Get:1 http://archive.ubuntu.com/ubuntu jammy/universe amd64 tesseract-ocr-eng all 1:4.00~git30-7274cfa-1.1 [1,591 kB]\n",
            "Get:2 http://archive.ubuntu.com/ubuntu jammy/universe amd64 tesseract-ocr-osd all 1:4.00~git30-7274cfa-1.1 [2,990 kB]\n",
            "Get:3 http://archive.ubuntu.com/ubuntu jammy/universe amd64 tesseract-ocr amd64 4.1.1-2.1build1 [236 kB]\n",
            "Fetched 4,816 kB in 2s (2,711 kB/s)\n",
            "Selecting previously unselected package tesseract-ocr-eng.\n",
            "(Reading database ... 121753 files and directories currently installed.)\n",
            "Preparing to unpack .../tesseract-ocr-eng_1%3a4.00~git30-7274cfa-1.1_all.deb ...\n",
            "Unpacking tesseract-ocr-eng (1:4.00~git30-7274cfa-1.1) ...\n",
            "Selecting previously unselected package tesseract-ocr-osd.\n",
            "Preparing to unpack .../tesseract-ocr-osd_1%3a4.00~git30-7274cfa-1.1_all.deb ...\n",
            "Unpacking tesseract-ocr-osd (1:4.00~git30-7274cfa-1.1) ...\n",
            "Selecting previously unselected package tesseract-ocr.\n",
            "Preparing to unpack .../tesseract-ocr_4.1.1-2.1build1_amd64.deb ...\n",
            "Unpacking tesseract-ocr (4.1.1-2.1build1) ...\n",
            "Setting up tesseract-ocr-eng (1:4.00~git30-7274cfa-1.1) ...\n",
            "Setting up tesseract-ocr-osd (1:4.00~git30-7274cfa-1.1) ...\n",
            "Setting up tesseract-ocr (4.1.1-2.1build1) ...\n",
            "Processing triggers for man-db (2.10.2-1) ...\n"
          ]
        }
      ],
      "source": [
        "!apt-get install tesseract-ocr"
      ]
    },
    {
      "cell_type": "markdown",
      "metadata": {
        "id": "q5zTynfY2Mdu"
      },
      "source": [
        "TO INSTALL PACKAGES: Opencv-python and pytesseract packages\n"
      ]
    },
    {
      "cell_type": "code",
      "execution_count": null,
      "metadata": {
        "colab": {
          "base_uri": "https://localhost:8080/"
        },
        "id": "fSOxxwwVKe1q",
        "outputId": "c2a87b21-7f17-4f8f-9c52-c41abe443ba1"
      },
      "outputs": [
        {
          "name": "stdout",
          "output_type": "stream",
          "text": [
            "Requirement already satisfied: opencv-python in /usr/local/lib/python3.10/dist-packages (4.8.0.76)\n",
            "Collecting pytesseract\n",
            "  Downloading pytesseract-0.3.10-py3-none-any.whl (14 kB)\n",
            "Requirement already satisfied: numpy>=1.21.2 in /usr/local/lib/python3.10/dist-packages (from opencv-python) (1.25.2)\n",
            "Requirement already satisfied: packaging>=21.3 in /usr/local/lib/python3.10/dist-packages (from pytesseract) (24.0)\n",
            "Requirement already satisfied: Pillow>=8.0.0 in /usr/local/lib/python3.10/dist-packages (from pytesseract) (9.4.0)\n",
            "Installing collected packages: pytesseract\n",
            "Successfully installed pytesseract-0.3.10\n"
          ]
        }
      ],
      "source": [
        "!pip install opencv-python pytesseract"
      ]
    },
    {
      "cell_type": "code",
      "execution_count": null,
      "metadata": {
        "colab": {
          "base_uri": "https://localhost:8080/"
        },
        "id": "2vwpz_TGKljG",
        "outputId": "1ac624f4-9729-4545-9289-41a4e6a8d613"
      },
      "outputs": [
        {
          "name": "stdout",
          "output_type": "stream",
          "text": [
            "tesseract 4.1.1\n",
            " leptonica-1.82.0\n",
            "  libgif 5.1.9 : libjpeg 8d (libjpeg-turbo 2.1.1) : libpng 1.6.37 : libtiff 4.3.0 : zlib 1.2.11 : libwebp 1.2.2 : libopenjp2 2.4.0\n",
            " Found AVX2\n",
            " Found AVX\n",
            " Found FMA\n",
            " Found SSE\n",
            " Found libarchive 3.6.0 zlib/1.2.11 liblzma/5.2.5 bz2lib/1.0.8 liblz4/1.9.3 libzstd/1.4.8\n"
          ]
        }
      ],
      "source": [
        "!tesseract --version"
      ]
    },
    {
      "cell_type": "code",
      "execution_count": null,
      "metadata": {
        "id": "aKmdKTh4Kqa_"
      },
      "outputs": [],
      "source": [
        "import pytesseract\n",
        "pytesseract.pytesseract.tesseract_cmd = '/usr/bin/tesseract'"
      ]
    },
    {
      "cell_type": "code",
      "execution_count": null,
      "metadata": {
        "id": "9JhAr3C8Ku2J"
      },
      "outputs": [],
      "source": [
        "import os\n",
        "from PIL import Image\n",
        "import pytesseract\n",
        "from datetime import datetime"
      ]
    },
    {
      "cell_type": "markdown",
      "metadata": {
        "id": "9o8CFAjN21kb"
      },
      "source": [
        "TEXT DETECTION AND OCR:"
      ]
    },
    {
      "cell_type": "code",
      "execution_count": null,
      "metadata": {
        "colab": {
          "background_save": true,
          "base_uri": "https://localhost:8080/"
        },
        "id": "xqao_NhlLLYt",
        "outputId": "dafe2766-7ed7-4c15-ffcf-2bfda2ce7071"
      },
      "outputs": [
        {
          "name": "stdout",
          "output_type": "stream",
          "text": [
            "Text 'London Underground Extravaganza' found at elapsed time: 00:00:00\n",
            "Text 'London Underground Extravaganza' found at elapsed time: 00:00:00\n",
            "Text 'London Underground Extravaganza' found at elapsed time: 00:00:00\n",
            "Text 'London Underground Extravaganza' found at elapsed time: 00:00:00\n",
            "Text 'London Underground Extravaganza' found at elapsed time: 00:00:00\n",
            "Text 'London Underground Extravaganza' found at elapsed time: 00:00:00\n",
            "Text 'London Underground Extravaganza' found at elapsed time: 00:00:00\n",
            "Text 'London Underground Extravaganza' found at elapsed time: 00:00:00\n",
            "Text 'London Underground Extravaganza' found at elapsed time: 00:00:00\n",
            "Text 'London Underground Extravaganza' found at elapsed time: 00:00:00\n",
            "Text 'London Underground Extravaganza' found at elapsed time: 00:00:00\n",
            "Text 'London Underground Extravaganza' found at elapsed time: 00:00:00\n",
            "Text 'London Underground Extravaganza' found at elapsed time: 00:00:00\n",
            "Text 'London Underground Extravaganza' found at elapsed time: 00:00:00\n",
            "Text 'London Underground Extravaganza' found at elapsed time: 00:00:00\n",
            "Text 'London Underground Extravaganza' found at elapsed time: 00:00:00\n",
            "Text 'London Underground Extravaganza' found at elapsed time: 00:00:00\n",
            "Text 'London Underground Extravaganza' found at elapsed time: 00:00:00\n",
            "Text 'London Underground Extravaganza' found at elapsed time: 00:00:00\n",
            "Text 'London Underground Extravaganza' found at elapsed time: 00:00:00\n",
            "Text 'London Underground Extravaganza' found at elapsed time: 00:00:00\n",
            "Text 'London Underground Extravaganza' found at elapsed time: 00:00:00\n",
            "Text 'London Underground Extravaganza' found at elapsed time: 00:00:00\n",
            "Text 'London Underground Extravaganza' found at elapsed time: 00:00:00\n",
            "Text 'London Underground Extravaganza' found at elapsed time: 00:00:00\n",
            "Text 'London Underground Extravaganza' found at elapsed time: 00:00:00\n",
            "Text 'London Underground Extravaganza' found at elapsed time: 00:00:00\n",
            "Text 'London Underground Extravaganza' found at elapsed time: 00:00:00\n",
            "Text 'London Underground Extravaganza' found at elapsed time: 00:00:00\n",
            "Text 'London Underground Extravaganza' found at elapsed time: 00:00:01\n",
            "Text 'London Underground Extravaganza' found at elapsed time: 00:00:01\n",
            "Text 'London Underground Extravaganza' found at elapsed time: 00:00:01\n",
            "Text 'London Underground Extravaganza' found at elapsed time: 00:00:01\n",
            "Text 'London Underground Extravaganza' found at elapsed time: 00:00:01\n",
            "Text 'London Underground Extravaganza' found at elapsed time: 00:00:01\n",
            "Text 'London Underground Extravaganza' found at elapsed time: 00:00:01\n",
            "Text 'London Underground Extravaganza' found at elapsed time: 00:00:01\n",
            "Text 'London Underground Extravaganza' found at elapsed time: 00:00:01\n",
            "Text 'London Underground Extravaganza' found at elapsed time: 00:00:01\n",
            "Text 'London Underground Extravaganza' found at elapsed time: 00:00:01\n",
            "Text 'London Underground Extravaganza' found at elapsed time: 00:00:01\n",
            "Text 'London Underground Extravaganza' found at elapsed time: 00:00:01\n",
            "Text 'London Underground Extravaganza' found at elapsed time: 00:00:01\n",
            "Text 'London Underground Extravaganza' found at elapsed time: 00:00:01\n",
            "Text 'London Underground Extravaganza' found at elapsed time: 00:00:01\n",
            "Text 'London Underground Extravaganza' found at elapsed time: 00:00:01\n",
            "Text 'London Underground Extravaganza' found at elapsed time: 00:00:01\n",
            "Text 'London Underground Extravaganza' found at elapsed time: 00:00:01\n",
            "Text 'London Underground Extravaganza' found at elapsed time: 00:00:01\n",
            "Text 'London Underground Extravaganza' found at elapsed time: 00:00:01\n",
            "Text 'London Underground Extravaganza' found at elapsed time: 00:00:01\n",
            "Text 'London Underground Extravaganza' found at elapsed time: 00:00:01\n",
            "Text 'London Underground Extravaganza' found at elapsed time: 00:00:01\n",
            "Text 'London Underground Extravaganza' found at elapsed time: 00:00:01\n",
            "Text 'London Underground Extravaganza' found at elapsed time: 00:00:01\n",
            "Text 'London Underground Extravaganza' found at elapsed time: 00:00:01\n",
            "Text 'London Underground Extravaganza' found at elapsed time: 00:00:01\n",
            "Text 'London Underground Extravaganza' found at elapsed time: 00:00:01\n",
            "Text 'London Underground Extravaganza' found at elapsed time: 00:00:01\n",
            "Text 'London Underground Extravaganza' found at elapsed time: 00:00:02\n",
            "Text 'London Underground Extravaganza' found at elapsed time: 00:00:02\n",
            "Text 'London Underground Extravaganza' found at elapsed time: 00:00:02\n",
            "Text 'London Underground Extravaganza' found at elapsed time: 00:00:02\n",
            "Text 'London Underground Extravaganza' found at elapsed time: 00:00:02\n",
            "Text 'London Underground Extravaganza' found at elapsed time: 00:00:02\n",
            "Text 'London Underground Extravaganza' found at elapsed time: 00:00:02\n",
            "Text 'London Underground Extravaganza' found at elapsed time: 00:00:02\n",
            "Text 'London Underground Extravaganza' found at elapsed time: 00:00:02\n",
            "Text 'London Underground Extravaganza' found at elapsed time: 00:00:02\n",
            "Text 'London Underground Extravaganza' found at elapsed time: 00:00:02\n",
            "Text 'London Underground Extravaganza' found at elapsed time: 00:00:02\n",
            "Text 'London Underground Extravaganza' found at elapsed time: 00:00:02\n",
            "Text 'London Underground Extravaganza' found at elapsed time: 00:00:02\n",
            "Text 'London Underground Extravaganza' found at elapsed time: 00:00:02\n",
            "Text 'London Underground Extravaganza' found at elapsed time: 00:00:02\n",
            "Text 'London Underground Extravaganza' found at elapsed time: 00:00:02\n",
            "Text 'London Underground Extravaganza' found at elapsed time: 00:00:02\n",
            "Text 'London Underground Extravaganza' found at elapsed time: 00:00:02\n",
            "Text 'London Underground Extravaganza' found at elapsed time: 00:00:02\n",
            "Text 'London Underground Extravaganza' found at elapsed time: 00:00:02\n",
            "Text 'London Underground Extravaganza' found at elapsed time: 00:00:02\n",
            "Text 'London Underground Extravaganza' found at elapsed time: 00:00:02\n",
            "Text 'London Underground Extravaganza' found at elapsed time: 00:00:02\n",
            "Text 'London Underground Extravaganza' found at elapsed time: 00:00:02\n",
            "Text 'London Underground Extravaganza' found at elapsed time: 00:00:02\n",
            "Text 'London Underground Extravaganza' found at elapsed time: 00:00:02\n",
            "Text 'London Underground Extravaganza' found at elapsed time: 00:00:02\n",
            "Text 'London Underground Extravaganza' found at elapsed time: 00:00:02\n",
            "Text 'London Underground Extravaganza' found at elapsed time: 00:00:02\n",
            "Text 'London Underground Extravaganza' found at elapsed time: 00:00:03\n",
            "Text 'London Underground Extravaganza' found at elapsed time: 00:00:03\n",
            "Text 'London Underground Extravaganza' found at elapsed time: 00:00:03\n",
            "Text 'London Underground Extravaganza' found at elapsed time: 00:00:03\n",
            "Text 'London Underground Extravaganza' found at elapsed time: 00:00:03\n",
            "Text 'London Underground Extravaganza' found at elapsed time: 00:00:03\n",
            "Text 'London Underground Extravaganza' found at elapsed time: 00:00:03\n",
            "Text 'London Underground Extravaganza' found at elapsed time: 00:00:03\n",
            "Text 'London Underground Extravaganza' found at elapsed time: 00:00:03\n",
            "Text 'London Underground Extravaganza' found at elapsed time: 00:00:03\n",
            "Text 'London Underground Extravaganza' found at elapsed time: 00:00:03\n",
            "Text 'London Underground Extravaganza' found at elapsed time: 00:00:03\n",
            "Text 'London Underground Extravaganza' found at elapsed time: 00:00:03\n",
            "Text 'London Underground Extravaganza' found at elapsed time: 00:00:03\n",
            "Text 'London Underground Extravaganza' found at elapsed time: 00:00:03\n",
            "Text 'London Underground Extravaganza' found at elapsed time: 00:00:03\n",
            "Text 'London Underground Extravaganza' found at elapsed time: 00:00:03\n",
            "Text 'London Underground Extravaganza' found at elapsed time: 00:00:03\n",
            "Text 'London Underground Extravaganza' found at elapsed time: 00:00:03\n",
            "Text 'London Underground Extravaganza' found at elapsed time: 00:00:03\n",
            "Text 'London Underground Extravaganza' found at elapsed time: 00:00:03\n",
            "Text 'London Underground Extravaganza' found at elapsed time: 00:00:03\n",
            "Text 'London Underground Extravaganza' found at elapsed time: 00:00:03\n",
            "Text 'London Underground Extravaganza' found at elapsed time: 00:00:03\n",
            "Text 'London Underground Extravaganza' found at elapsed time: 00:00:03\n",
            "Text 'London Underground Extravaganza' found at elapsed time: 00:00:03\n",
            "Text 'London Underground Extravaganza' found at elapsed time: 00:00:03\n",
            "Text 'London Underground Extravaganza' found at elapsed time: 00:00:03\n",
            "Text 'London Underground Extravaganza' found at elapsed time: 00:00:03\n",
            "Text 'London Underground Extravaganza' found at elapsed time: 00:00:03\n",
            "Text 'London Underground Extravaganza' found at elapsed time: 00:00:04\n",
            "Text 'London Underground Extravaganza' found at elapsed time: 00:00:04\n",
            "Text 'London Underground Extravaganza' found at elapsed time: 00:00:04\n",
            "Text 'London Underground Extravaganza' found at elapsed time: 00:00:04\n",
            "Text 'London Underground Extravaganza' found at elapsed time: 00:00:04\n",
            "Text 'London Underground Extravaganza' found at elapsed time: 00:00:04\n",
            "Text 'London Underground Extravaganza' found at elapsed time: 00:00:04\n",
            "Text 'London Underground Extravaganza' found at elapsed time: 00:00:04\n",
            "Text 'London Underground Extravaganza' found at elapsed time: 00:00:04\n",
            "Text 'London Underground Extravaganza' found at elapsed time: 00:00:04\n",
            "Text 'London Underground Extravaganza' found at elapsed time: 00:00:04\n",
            "Text 'London Underground Extravaganza' found at elapsed time: 00:00:04\n",
            "Text 'London Underground Extravaganza' found at elapsed time: 00:00:04\n",
            "Text 'London Underground Extravaganza' found at elapsed time: 00:00:04\n",
            "Text 'London Underground Extravaganza' found at elapsed time: 00:00:04\n",
            "Text 'London Underground Extravaganza' found at elapsed time: 00:00:04\n",
            "Text 'London Underground Extravaganza' found at elapsed time: 00:00:04\n",
            "Text 'London Underground Extravaganza' found at elapsed time: 00:00:04\n",
            "Text 'London Underground Extravaganza' found at elapsed time: 00:00:04\n",
            "Text 'London Underground Extravaganza' found at elapsed time: 00:00:04\n",
            "Text 'London Underground Extravaganza' found at elapsed time: 00:00:04\n",
            "Text 'London Underground Extravaganza' found at elapsed time: 00:00:04\n",
            "Text 'London Underground Extravaganza' found at elapsed time: 00:00:04\n",
            "Text 'London Underground Extravaganza' found at elapsed time: 00:00:04\n",
            "Text 'London Underground Extravaganza' found at elapsed time: 00:00:04\n",
            "Text 'London Underground Extravaganza' found at elapsed time: 00:00:04\n",
            "Text 'London Underground Extravaganza' found at elapsed time: 00:00:04\n",
            "Text 'London Underground Extravaganza' found at elapsed time: 00:00:04\n",
            "Text 'London Underground Extravaganza' found at elapsed time: 00:00:04\n",
            "Text 'London Underground Extravaganza' found at elapsed time: 00:00:04\n",
            "Text 'London Underground Extravaganza' found at elapsed time: 00:00:05\n",
            "Text 'London Underground Extravaganza' found at elapsed time: 00:00:05\n",
            "Text 'London Underground Extravaganza' found at elapsed time: 00:00:05\n"
          ]
        }
      ],
      "source": [
        "import cv2\n",
        "import pytesseract\n",
        "from datetime import datetime\n",
        "\n",
        "# Path to video file\n",
        "video_path = '/content/drive/MyDrive/Intern/London Underground Extravaganza All 11 Lines! 29 November 2016.mp4'\n",
        "\n",
        "# Text to search for\n",
        "search_text = \"London Underground Extravaganza\"\n",
        "\n",
        "# Open video file\n",
        "video_capture = cv2.VideoCapture(video_path)\n",
        "\n",
        "# Set up OpenCV to get frame timestamps\n",
        "fps = video_capture.get(cv2.CAP_PROP_FPS)\n",
        "\n",
        "# Calculate total frames in the video\n",
        "total_frames = int(video_capture.get(cv2.CAP_PROP_FRAME_COUNT))\n",
        "\n",
        "# Calculate total seconds in the video\n",
        "total_seconds = total_frames / fps\n",
        "\n",
        "# Read frames from video\n",
        "while video_capture.isOpened():\n",
        "    ret, frame = video_capture.read()\n",
        "    if not ret:\n",
        "        break\n",
        "\n",
        "    # Convert frame to grayscale for better OCR performance\n",
        "    gray_frame = cv2.cvtColor(frame, cv2.COLOR_BGR2GRAY)\n",
        "\n",
        "    # Perform OCR on frame\n",
        "    extracted_text = pytesseract.image_to_string(gray_frame)\n",
        "\n",
        "    # Search for specific text in extracted text\n",
        "    if search_text in extracted_text:\n",
        "        # Calculate elapsed time for current frame\n",
        "        frame_number = video_capture.get(cv2.CAP_PROP_POS_FRAMES)\n",
        "        elapsed_seconds = frame_number / fps\n",
        "        elapsed_minutes = int(elapsed_seconds // 60)\n",
        "        elapsed_seconds %= 60\n",
        "        elapsed_hours = int(elapsed_minutes // 60)\n",
        "        elapsed_minutes %= 60\n",
        "        elapsed_time = \"{:02d}:{:02d}:{:02d}\".format(int(elapsed_hours), int(elapsed_minutes), int(elapsed_seconds))\n",
        "        print(f\"Text '{search_text}' found at elapsed time: {elapsed_time}\")\n",
        "\n",
        "# Release video capture object\n",
        "video_capture.release()"
      ]
    }
  ],
  "metadata": {
    "colab": {
      "provenance": []
    },
    "kernelspec": {
      "display_name": "Python 3",
      "name": "python3"
    },
    "language_info": {
      "name": "python"
    }
  },
  "nbformat": 4,
  "nbformat_minor": 0
}